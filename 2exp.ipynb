{
 "cells": [
  {
   "cell_type": "code",
   "execution_count": 9,
   "metadata": {},
   "outputs": [
    {
     "name": "stdout",
     "output_type": "stream",
     "text": [
      "Found 20000 images belonging to 2 classes.\n",
      "Found 4998 images belonging to 2 classes.\n",
      "Epoch 1/2\n",
      "383/625 [=================>............] - ETA: 2:06 - loss: 0.6963 - accuracy: 0.5302"
     ]
    },
    {
     "name": "stderr",
     "output_type": "stream",
     "text": [
      "c:\\Users\\asus\\anaconda3\\envs\\tensorGpuEnv\\lib\\site-packages\\PIL\\TiffImagePlugin.py:900: UserWarning: Truncated File Read\n",
      "  warnings.warn(str(msg))\n"
     ]
    },
    {
     "name": "stdout",
     "output_type": "stream",
     "text": [
      "625/625 [==============================] - 311s 494ms/step - loss: 0.6842 - accuracy: 0.5536 - val_loss: 0.6404 - val_accuracy: 0.6303\n",
      "Epoch 2/2\n",
      "625/625 [==============================] - 155s 247ms/step - loss: 0.6094 - accuracy: 0.6592 - val_loss: 0.6071 - val_accuracy: 0.6643\n"
     ]
    }
   ],
   "source": [
    "import tensorflow as tf\n",
    "from tensorflow.keras import layers, models\n",
    "from tensorflow.keras.preprocessing.image import ImageDataGenerator\n",
    "import matplotlib.pyplot as plt\n",
    "\n",
    "# Set up image data generators with validation split\n",
    "train_datagen = ImageDataGenerator( \n",
    "    rescale=1.0 / 255,  # Normalize the images to [0, 1]\n",
    "    rotation_range=40,  # Randomly rotate images in the range (degrees, 0 to 40)\n",
    "    width_shift_range=0.2,  # Randomly shift images horizontally (20% of total width)\n",
    "    height_shift_range=0.2,  # Randomly shift images vertically (20% of total height)\n",
    "    horizontal_flip=True,  # Randomly flip images\n",
    "    validation_split=0.2  # Use 20% of the data for validation\n",
    ")\n",
    "\n",
    "# Create a generator for training data\n",
    "train_generator = train_datagen.flow_from_directory(\n",
    "    r'C:\\Users\\asus\\Downloads\\DOG_CAT\\PetImages',  # Path to data directory\n",
    "    target_size=(150, 150),  # Resize images to 150x150\n",
    "    batch_size=32,  # Number of images to yield per batch\n",
    "    class_mode='binary',  # Binary classification (Cat vs Dog)\n",
    "    subset='training'  # Set as training data\n",
    ")\n",
    "\n",
    "# Create a generator for validation data\n",
    "validation_generator = train_datagen.flow_from_directory(\n",
    "    r'C:\\Users\\asus\\Downloads\\DOG_CAT\\PetImages',  # Path to data directory\n",
    "    target_size=(150, 150),  # Resize images to 150x150\n",
    "    batch_size=32,\n",
    "    class_mode='binary',\n",
    "    subset='validation'  # Set as validation data\n",
    ")\n",
    "\n",
    "# Define the model\n",
    "model = models.Sequential([\n",
    "    layers.Conv2D(32, (3, 3), activation='relu', input_shape=(150, 150, 3)),\n",
    "    layers.MaxPooling2D(pool_size=(2, 2)),\n",
    "    \n",
    "    layers.Conv2D(64, (3, 3), activation='relu'),\n",
    "    layers.MaxPooling2D(pool_size=(2, 2)),\n",
    "    \n",
    "    layers.Conv2D(128, (3, 3), activation='relu'),\n",
    "    layers.MaxPooling2D(pool_size=(2, 2)),\n",
    "    \n",
    "    layers.Flatten(),\n",
    "    layers.Dense(128, activation='relu'),\n",
    "    layers.Dense(1, activation='sigmoid')  # Sigmoid for binary classification\n",
    "])\n",
    "\n",
    "# Compile the model\n",
    "model.compile(optimizer='adam',\n",
    "              loss='binary_crossentropy',\n",
    "              metrics=['accuracy'])\n",
    "\n",
    "# Train the model\n",
    "history = model.fit(train_generator, epochs=2, validation_data=validation_generator)\n",
    "\n"
   ]
  },
  {
   "cell_type": "code",
   "execution_count": 4,
   "metadata": {},
   "outputs": [
    {
     "name": "stderr",
     "output_type": "stream",
     "text": [
      "WARNING:absl:Found untraced functions such as _jit_compiled_convolution_op, _jit_compiled_convolution_op, _jit_compiled_convolution_op while saving (showing 3 of 3). These functions will not be directly callable after loading.\n"
     ]
    },
    {
     "name": "stdout",
     "output_type": "stream",
     "text": [
      "INFO:tensorflow:Assets written to: saved_model/my_model2\\assets\n"
     ]
    },
    {
     "name": "stderr",
     "output_type": "stream",
     "text": [
      "INFO:tensorflow:Assets written to: saved_model/my_model2\\assets\n"
     ]
    }
   ],
   "source": [
    "model.save('saved_model/my_model2')"
   ]
  },
  {
   "cell_type": "code",
   "execution_count": 6,
   "metadata": {},
   "outputs": [],
   "source": [
    "from tensorflow.keras.models import load_model\n",
    "\n",
    "# Load the model\n",
    "mymodel = load_model(\"my_model.h5\")\n"
   ]
  },
  {
   "cell_type": "code",
   "execution_count": null,
   "metadata": {},
   "outputs": [
    {
     "name": "stdout",
     "output_type": "stream",
     "text": [
      "1/1 [==============================] - 1s 1s/step\n",
      "The predicted class is: Cat with a confidence of 0.00\n"
     ]
    }
   ],
   "source": [
    "from tensorflow.keras.preprocessing import image\n",
    "import numpy as np\n",
    "\n",
    "# Function to load and preprocess an image\n",
    "def prepare_image(img_path, target_size=(150, 150)):\n",
    "    img = image.load_img(img_path, target_size=target_size)  # Load and resize image\n",
    "    img_array = image.img_to_array(img)  # Convert image to array\n",
    "    img_array = np.expand_dims(img_array, axis=0)  # Expand dimensions to fit model input shape\n",
    "    img_array /= 255.0  # Normalize the image (same as in training)\n",
    "    return img_array\n",
    "\n",
    "# Path to the new image you want to predict\n",
    "img_path = r\"C:\\Users\\asus\\Downloads\\DOG_CAT\\PetImages\\Cat\\998.jpg\"  # Replace with the path to your image\n",
    " \n",
    "# Preprocess the image\n",
    "img_array = prepare_image(img_path)\n",
    "\n",
    "# Predict the class (0 or 1)\n",
    "prediction = mymodel.predict(img_array)\n",
    "predicted_class = int(prediction[0][0] > 0.5)  # Convert probability to binary output (0 or 1)\n",
    "\n",
    "# Map predicted class to label\n",
    "class_labels = {0: 'Cat', 1: 'Dog'}  # Define label mapping\n",
    "print(f\"The predicted class is: {class_labels[predicted_class]} with a confidence of {prediction[0][0]:.2f}\")\n"
   ]
  },
  {
   "cell_type": "code",
   "execution_count": null,
   "metadata": {},
   "outputs": [],
   "source": []
  }
 ],
 "metadata": {
  "kernelspec": {
   "display_name": "Python 3 (ipykernel)",
   "language": "python",
   "name": "python3"
  },
  "language_info": {
   "codemirror_mode": {
    "name": "ipython",
    "version": 3
   },
   "file_extension": ".py",
   "mimetype": "text/x-python",
   "name": "python",
   "nbconvert_exporter": "python",
   "pygments_lexer": "ipython3",
   "version": "3.11.7"
  }
 },
 "nbformat": 4,
 "nbformat_minor": 4
}
